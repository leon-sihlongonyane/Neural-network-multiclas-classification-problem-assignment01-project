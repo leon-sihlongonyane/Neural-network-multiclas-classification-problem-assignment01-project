{
 "cells": [
  {
   "cell_type": "markdown",
   "metadata": {
    "id": "P2OWpLAcpenE"
   },
   "source": [
    "### LEON MANGALISO SIHLONGONYANE: ASSIGNMENT 1"
   ]
  },
  {
   "cell_type": "markdown",
   "metadata": {
    "id": "-s9tiAZapenG"
   },
   "source": [
    "**Import libraries to carry out some capabilities**\n",
    "\n",
    "---\n",
    "\n",
    "\n",
    "\n",
    "---\n",
    "\n"
   ]
  },
  {
   "cell_type": "code",
   "execution_count": 66,
   "metadata": {
    "id": "qfqhQag3ibRk"
   },
   "outputs": [],
   "source": [
    "import numpy as np  #able to do numeracal operations\n",
    "np.random.seed(1337) # for reproducibility\n",
    "import pandas       #able to import CV files and other data manipulation\n",
    "import tensorflow as tf  # able to apply nueral network modelling\n",
    "from tensorflow.keras import Sequential  # for plain stack of layers\n",
    "from tensorflow.keras.layers import Dense  # to create fully connected layers\n",
    "from tensorflow.keras import metrics  #able to calculate accuracy of model\n",
    "from imblearn.under_sampling import RandomUnderSampler #to perform random under-sampling.\n",
    "from tensorflow.keras.wrappers.scikit_learn import KerasRegressor  #The Keras wrappers return the mean loss \n",
    "from sklearn.metrics import mean_squared_error  #for mean square error\n",
    "from sklearn.preprocessing import StandardScaler  #for scaling data\n",
    "from sklearn.model_selection import train_test_split   #able to split data into training and testing\n",
    "import matplotlib.pyplot as plt   # able to plot\n",
    "from sklearn.metrics import confusion_matrix, accuracy_score   #able to calculate accuracy score for model\n",
    "from keras.utils import np_utils  #able to do one hot encoding\n",
    "\n"
   ]
  },
  {
   "cell_type": "markdown",
   "metadata": {
    "id": "W9dxgzMLpenM"
   },
   "source": [
    "**Import data**"
   ]
  },
  {
   "cell_type": "code",
   "execution_count": 67,
   "metadata": {
    "id": "rXmlZEuPGitQ"
   },
   "outputs": [],
   "source": [
    "dataframe = pandas.read_csv(\"https://drive.google.com/uc?id=1PzJA23lUSlf2x1DeF_ek1YSAj-RFHWCp\")\n",
    "dataset = dataframe.values    #we import CV file from online"
   ]
  },
  {
   "cell_type": "markdown",
   "metadata": {
    "id": "8B4LX1t9penP"
   },
   "source": [
    "**Check data**"
   ]
  },
  {
   "cell_type": "code",
   "execution_count": 68,
   "metadata": {
    "colab": {
     "base_uri": "https://localhost:8080/",
     "height": 270
    },
    "id": "z2CvQLuSGixf",
    "outputId": "662cad51-d2d9-452e-d62e-2031cfd57afd"
   },
   "outputs": [
    {
     "data": {
      "text/html": [
       "<div>\n",
       "<style scoped>\n",
       "    .dataframe tbody tr th:only-of-type {\n",
       "        vertical-align: middle;\n",
       "    }\n",
       "\n",
       "    .dataframe tbody tr th {\n",
       "        vertical-align: top;\n",
       "    }\n",
       "\n",
       "    .dataframe thead th {\n",
       "        text-align: right;\n",
       "    }\n",
       "</style>\n",
       "<table border=\"1\" class=\"dataframe\">\n",
       "  <thead>\n",
       "    <tr style=\"text-align: right;\">\n",
       "      <th></th>\n",
       "      <th>1</th>\n",
       "      <th>2</th>\n",
       "      <th>3</th>\n",
       "      <th>4</th>\n",
       "      <th>5</th>\n",
       "      <th>6</th>\n",
       "      <th>7</th>\n",
       "      <th>8</th>\n",
       "      <th>9</th>\n",
       "      <th>10</th>\n",
       "      <th>...</th>\n",
       "      <th>13</th>\n",
       "      <th>14</th>\n",
       "      <th>15</th>\n",
       "      <th>16</th>\n",
       "      <th>17</th>\n",
       "      <th>18</th>\n",
       "      <th>19</th>\n",
       "      <th>20</th>\n",
       "      <th>21</th>\n",
       "      <th>Target</th>\n",
       "    </tr>\n",
       "  </thead>\n",
       "  <tbody>\n",
       "    <tr>\n",
       "      <th>0</th>\n",
       "      <td>0.152936</td>\n",
       "      <td>-0.105586</td>\n",
       "      <td>0.200722</td>\n",
       "      <td>0.317201</td>\n",
       "      <td>0.260764</td>\n",
       "      <td>0.100945</td>\n",
       "      <td>-0.150063</td>\n",
       "      <td>-0.171128</td>\n",
       "      <td>0.124676</td>\n",
       "      <td>0.188654</td>\n",
       "      <td>...</td>\n",
       "      <td>0.082245</td>\n",
       "      <td>0.135752</td>\n",
       "      <td>-0.024017</td>\n",
       "      <td>-0.108351</td>\n",
       "      <td>-0.077623</td>\n",
       "      <td>-0.009568</td>\n",
       "      <td>0.057684</td>\n",
       "      <td>0.118680</td>\n",
       "      <td>0.014038</td>\n",
       "      <td>0</td>\n",
       "    </tr>\n",
       "    <tr>\n",
       "      <th>1</th>\n",
       "      <td>0.171534</td>\n",
       "      <td>-0.098975</td>\n",
       "      <td>0.268425</td>\n",
       "      <td>0.338672</td>\n",
       "      <td>0.268353</td>\n",
       "      <td>0.060835</td>\n",
       "      <td>-0.222475</td>\n",
       "      <td>-0.207693</td>\n",
       "      <td>0.170883</td>\n",
       "      <td>0.270958</td>\n",
       "      <td>...</td>\n",
       "      <td>0.022786</td>\n",
       "      <td>0.163320</td>\n",
       "      <td>0.012022</td>\n",
       "      <td>-0.090974</td>\n",
       "      <td>-0.056510</td>\n",
       "      <td>-0.035303</td>\n",
       "      <td>0.020140</td>\n",
       "      <td>0.082263</td>\n",
       "      <td>0.029056</td>\n",
       "      <td>0</td>\n",
       "    </tr>\n",
       "    <tr>\n",
       "      <th>2</th>\n",
       "      <td>0.152317</td>\n",
       "      <td>-0.082973</td>\n",
       "      <td>0.287128</td>\n",
       "      <td>0.276014</td>\n",
       "      <td>0.189867</td>\n",
       "      <td>0.008714</td>\n",
       "      <td>-0.242234</td>\n",
       "      <td>-0.219153</td>\n",
       "      <td>0.232538</td>\n",
       "      <td>0.266064</td>\n",
       "      <td>...</td>\n",
       "      <td>0.050791</td>\n",
       "      <td>0.207338</td>\n",
       "      <td>0.083536</td>\n",
       "      <td>-0.050691</td>\n",
       "      <td>-0.023590</td>\n",
       "      <td>-0.066722</td>\n",
       "      <td>-0.025083</td>\n",
       "      <td>0.099108</td>\n",
       "      <td>0.077162</td>\n",
       "      <td>0</td>\n",
       "    </tr>\n",
       "    <tr>\n",
       "      <th>3</th>\n",
       "      <td>0.224392</td>\n",
       "      <td>0.118985</td>\n",
       "      <td>0.329432</td>\n",
       "      <td>0.372088</td>\n",
       "      <td>0.361005</td>\n",
       "      <td>0.015501</td>\n",
       "      <td>-0.194347</td>\n",
       "      <td>-0.098181</td>\n",
       "      <td>0.270375</td>\n",
       "      <td>0.267279</td>\n",
       "      <td>...</td>\n",
       "      <td>-0.011567</td>\n",
       "      <td>0.100413</td>\n",
       "      <td>-0.050224</td>\n",
       "      <td>-0.136009</td>\n",
       "      <td>-0.177037</td>\n",
       "      <td>-0.130498</td>\n",
       "      <td>-0.054766</td>\n",
       "      <td>-0.018691</td>\n",
       "      <td>0.023954</td>\n",
       "      <td>0</td>\n",
       "    </tr>\n",
       "    <tr>\n",
       "      <th>4</th>\n",
       "      <td>0.087817</td>\n",
       "      <td>-0.068345</td>\n",
       "      <td>0.306967</td>\n",
       "      <td>0.330923</td>\n",
       "      <td>0.249144</td>\n",
       "      <td>0.006884</td>\n",
       "      <td>-0.265423</td>\n",
       "      <td>-0.172700</td>\n",
       "      <td>0.266434</td>\n",
       "      <td>0.332695</td>\n",
       "      <td>...</td>\n",
       "      <td>0.037439</td>\n",
       "      <td>0.219153</td>\n",
       "      <td>0.062837</td>\n",
       "      <td>-0.048885</td>\n",
       "      <td>-0.053074</td>\n",
       "      <td>-0.088550</td>\n",
       "      <td>-0.031346</td>\n",
       "      <td>0.108610</td>\n",
       "      <td>0.079244</td>\n",
       "      <td>0</td>\n",
       "    </tr>\n",
       "  </tbody>\n",
       "</table>\n",
       "<p>5 rows × 22 columns</p>\n",
       "</div>"
      ],
      "text/plain": [
       "          1         2         3         4         5         6         7  \\\n",
       "0  0.152936 -0.105586  0.200722  0.317201  0.260764  0.100945 -0.150063   \n",
       "1  0.171534 -0.098975  0.268425  0.338672  0.268353  0.060835 -0.222475   \n",
       "2  0.152317 -0.082973  0.287128  0.276014  0.189867  0.008714 -0.242234   \n",
       "3  0.224392  0.118985  0.329432  0.372088  0.361005  0.015501 -0.194347   \n",
       "4  0.087817 -0.068345  0.306967  0.330923  0.249144  0.006884 -0.265423   \n",
       "\n",
       "          8         9        10  ...        13        14        15        16  \\\n",
       "0 -0.171128  0.124676  0.188654  ...  0.082245  0.135752 -0.024017 -0.108351   \n",
       "1 -0.207693  0.170883  0.270958  ...  0.022786  0.163320  0.012022 -0.090974   \n",
       "2 -0.219153  0.232538  0.266064  ...  0.050791  0.207338  0.083536 -0.050691   \n",
       "3 -0.098181  0.270375  0.267279  ... -0.011567  0.100413 -0.050224 -0.136009   \n",
       "4 -0.172700  0.266434  0.332695  ...  0.037439  0.219153  0.062837 -0.048885   \n",
       "\n",
       "         17        18        19        20        21  Target  \n",
       "0 -0.077623 -0.009568  0.057684  0.118680  0.014038       0  \n",
       "1 -0.056510 -0.035303  0.020140  0.082263  0.029056       0  \n",
       "2 -0.023590 -0.066722 -0.025083  0.099108  0.077162       0  \n",
       "3 -0.177037 -0.130498 -0.054766 -0.018691  0.023954       0  \n",
       "4 -0.053074 -0.088550 -0.031346  0.108610  0.079244       0  \n",
       "\n",
       "[5 rows x 22 columns]"
      ]
     },
     "execution_count": 68,
     "metadata": {},
     "output_type": "execute_result"
    }
   ],
   "source": [
    "dataframe.head()  #view data"
   ]
  },
  {
   "cell_type": "code",
   "execution_count": 69,
   "metadata": {
    "colab": {
     "base_uri": "https://localhost:8080/"
    },
    "id": "8OCun8j_H-sR",
    "outputId": "0b260d3d-b2b8-4154-b7cd-5f67ff84c9e8"
   },
   "outputs": [
    {
     "data": {
      "text/plain": [
       "(5474, 22)"
      ]
     },
     "execution_count": 69,
     "metadata": {},
     "output_type": "execute_result"
    }
   ],
   "source": [
    "dataframe.shape   #check shape"
   ]
  },
  {
   "cell_type": "markdown",
   "metadata": {
    "id": "DV5Qs7nBpenU"
   },
   "source": [
    "**Assinging X and Y values of data**"
   ]
  },
  {
   "cell_type": "code",
   "execution_count": 70,
   "metadata": {
    "id": "ov0iEV59penW"
   },
   "outputs": [],
   "source": [
    "X = dataframe.drop(columns=['Target']).values   #remove 1st column what remains are the features\n",
    "Y = dataframe['Target'].values #target  "
   ]
  },
  {
   "cell_type": "code",
   "execution_count": 71,
   "metadata": {
    "colab": {
     "base_uri": "https://localhost:8080/"
    },
    "id": "CY6S0oMLH-5S",
    "outputId": "c9ce9c9c-d791-4ab7-deee-39411e37ea8b"
   },
   "outputs": [
    {
     "data": {
      "text/plain": [
       "(5474, 21)"
      ]
     },
     "execution_count": 71,
     "metadata": {},
     "output_type": "execute_result"
    }
   ],
   "source": [
    "X.shape  #check shape of X"
   ]
  },
  {
   "cell_type": "code",
   "execution_count": 72,
   "metadata": {
    "colab": {
     "base_uri": "https://localhost:8080/"
    },
    "id": "lOHL1jFYpenZ",
    "outputId": "e385de07-f7e3-4b80-f249-2c68b914dea6"
   },
   "outputs": [
    {
     "data": {
      "text/plain": [
       "(5474,)"
      ]
     },
     "execution_count": 72,
     "metadata": {},
     "output_type": "execute_result"
    }
   ],
   "source": [
    "Y.shape  #check shape consistency of Y"
   ]
  },
  {
   "cell_type": "markdown",
   "metadata": {
    "id": "DT81YTC6pena"
   },
   "source": [
    "**Undersampling to avoid overfitting and biasness**"
   ]
  },
  {
   "cell_type": "code",
   "execution_count": 73,
   "metadata": {
    "id": "h_3q2WVWpenc"
   },
   "outputs": [],
   "source": [
    "R=RandomUnderSampler(random_state=1)  # without this, the confusiomn matrix was worse, indicationg overfitting.\n",
    "X,Y=R.fit_resample(X,Y)"
   ]
  },
  {
   "cell_type": "markdown",
   "metadata": {
    "id": "aUmJjs-lqrmf"
   },
   "source": [
    "**Splitting data into training and testing**"
   ]
  },
  {
   "cell_type": "code",
   "execution_count": 74,
   "metadata": {
    "id": "U6KAxsNmpenc"
   },
   "outputs": [],
   "source": [
    "X_train, X_test, Y_train, Y_test = train_test_split(X, Y, test_size=.3) #splitting data into training 70% and testing 30%"
   ]
  },
  {
   "cell_type": "code",
   "execution_count": 75,
   "metadata": {
    "colab": {
     "base_uri": "https://localhost:8080/"
    },
    "id": "Wn3ABAtKQvmR",
    "outputId": "62c4e5d2-92e3-4370-bb51-beefbad5a892"
   },
   "outputs": [
    {
     "data": {
      "text/plain": [
       "array([[ 0.46262565, -0.02696964, -0.02100747, ..., -0.03734475,\n",
       "         0.08962552,  0.14452122],\n",
       "       [ 0.51121852,  0.26375242,  0.38862191, ...,  0.07670753,\n",
       "        -0.22725726, -0.13048063],\n",
       "       [ 0.55831738,  0.78065641,  0.44947842, ...,  0.12402538,\n",
       "         0.014855  , -0.19876274],\n",
       "       ...,\n",
       "       [-0.00356364,  0.06904895,  0.65632214, ..., -0.04632749,\n",
       "         0.10511495,  0.09676343],\n",
       "       [ 0.45237082,  0.60672178,  0.47305909, ..., -0.04282124,\n",
       "         0.07518425,  0.01262208],\n",
       "       [ 0.5298313 ,  0.22473103,  0.42788393, ...,  0.15721254,\n",
       "         0.10962839, -0.1086241 ]])"
      ]
     },
     "execution_count": 75,
     "metadata": {},
     "output_type": "execute_result"
    }
   ],
   "source": [
    "X_train #check data for consistency"
   ]
  },
  {
   "cell_type": "code",
   "execution_count": 76,
   "metadata": {
    "colab": {
     "base_uri": "https://localhost:8080/"
    },
    "id": "5P_Pr3EjH-75",
    "outputId": "a5aa3b50-b370-408f-f2fb-589431449f7b"
   },
   "outputs": [
    {
     "data": {
      "text/plain": [
       "array([4, 0, 0, 4, 0, 1, 2, 2, 4, 1, 1, 1, 3, 3, 4, 2, 3, 0, 1, 1, 4, 3,\n",
       "       0, 0, 0, 4, 0, 2, 4, 0, 1, 1, 1, 3, 1, 0, 3, 2, 2, 3, 1, 0, 1, 1,\n",
       "       2, 0, 1, 4, 1, 3, 1, 1, 2, 2, 3, 4, 0, 4, 0, 4, 0, 0, 0, 1, 3, 1,\n",
       "       0, 0, 0, 2, 4, 4, 1, 3, 0, 0, 2, 1, 4, 2, 2, 2, 0, 4, 1, 2, 4, 3,\n",
       "       2, 4, 1, 1, 3, 1, 0, 4, 4, 2, 1, 3, 0, 0, 3, 3, 0, 4, 3, 2, 1, 3,\n",
       "       0, 0, 2, 4, 3, 4, 3, 4, 0, 3, 1, 2, 2, 4, 3, 4, 0, 3, 0, 2, 0, 1,\n",
       "       2, 4, 2, 2, 4, 4, 0, 0, 0, 0, 3, 0, 0, 4, 3, 4, 0, 1, 2, 2, 0, 2,\n",
       "       3, 1, 2, 0, 0, 3, 1, 1, 2, 4, 4, 3, 0, 1, 1, 4, 0, 2, 1, 3, 3, 2,\n",
       "       0, 2, 0, 0, 1, 3, 3, 1, 3, 4, 0, 0, 2, 3, 0, 3, 2, 0, 1, 4, 1, 2,\n",
       "       2, 2, 0, 2, 2, 0, 1, 0, 1, 3, 3, 3, 2, 2, 3, 2, 4, 2, 3, 4, 0, 2,\n",
       "       2, 3, 4, 4, 2, 0, 2, 4, 0, 0, 0, 3, 1, 3, 4, 4, 1, 1, 4, 4, 2, 2,\n",
       "       3, 0, 4, 1, 2, 1, 2, 2, 0, 4, 4, 1, 0, 0, 3, 0, 4, 4, 1, 2, 4, 2,\n",
       "       0, 2, 1, 4, 2, 1, 0, 1, 1, 3, 1, 4, 2, 2, 4, 0, 3, 1, 1, 0, 3, 3,\n",
       "       0, 2, 0, 0, 3, 2, 4, 0, 1, 3, 3, 0, 3, 4, 4, 1, 2, 1, 4, 3, 1, 3,\n",
       "       2, 0, 1, 2, 4, 3, 3, 1, 2, 0, 2, 1, 0, 0, 4, 2, 0, 1, 2, 1, 4, 0,\n",
       "       0, 1, 0, 3, 1, 0, 3, 3, 0, 1, 0, 1, 3, 2, 3, 4, 1, 0, 3, 2, 3, 3,\n",
       "       2, 4, 3, 3, 0, 3, 3, 3, 1, 1, 3, 3, 3, 3, 4, 3, 2, 2, 4, 0, 0, 1,\n",
       "       1, 1, 4, 3, 1, 0, 4, 1, 3, 3, 3, 4, 2, 3, 0, 2, 3, 3, 4, 1, 0, 4,\n",
       "       3, 4, 0, 4, 3, 2, 4, 1, 0, 4, 0, 2, 2, 3, 1, 0, 1, 0, 2, 3, 1, 2,\n",
       "       4, 4, 4, 4, 1, 2, 1, 2, 1, 1, 4, 3, 3, 3, 0, 0, 0, 1, 4, 3, 1, 3,\n",
       "       2, 0, 1, 1, 1, 0, 3, 0, 4, 3, 4, 1, 1, 3, 1, 4, 4, 2, 0, 0, 0, 4,\n",
       "       3, 2, 1])"
      ]
     },
     "execution_count": 76,
     "metadata": {},
     "output_type": "execute_result"
    }
   ],
   "source": [
    "Y_test #check data for consistency"
   ]
  },
  {
   "cell_type": "markdown",
   "metadata": {
    "id": "ifwByb15peng"
   },
   "source": [
    "**Check number of classes**\n",
    "\n"
   ]
  },
  {
   "cell_type": "code",
   "execution_count": 77,
   "metadata": {
    "colab": {
     "base_uri": "https://localhost:8080/"
    },
    "id": "8yqu9fqjpenh",
    "outputId": "5d3f39d9-5a58-4940-9c73-0afd4575863d"
   },
   "outputs": [
    {
     "name": "stdout",
     "output_type": "stream",
     "text": [
      "Total number of outputs :  5\n",
      "Output classes :  [0 1 2 3 4]\n"
     ]
    }
   ],
   "source": [
    "classes = np.unique(Y_train)          #checking number classes, we use results for determining number of output layers to pick for our model \n",
    "nClasses = len(classes)\n",
    "print('Total number of outputs : ', nClasses)\n",
    "print('Output classes : ', classes)"
   ]
  },
  {
   "cell_type": "markdown",
   "metadata": {
    "id": "2GepDr5upeni"
   },
   "source": [
    "**One Hot encoding**"
   ]
  },
  {
   "cell_type": "code",
   "execution_count": 78,
   "metadata": {
    "id": "yY7QPNKEH--M"
   },
   "outputs": [],
   "source": [
    "Y_train=np_utils.to_categorical(Y_train)  #Converts a class vector to binary class matrix\n",
    "Y_test=np_utils.to_categorical(Y_test)"
   ]
  },
  {
   "cell_type": "code",
   "execution_count": 79,
   "metadata": {
    "colab": {
     "base_uri": "https://localhost:8080/"
    },
    "id": "ENP7mhRiH_BB",
    "outputId": "e055cc43-c3d3-4bdf-94a7-6441acd7846a"
   },
   "outputs": [
    {
     "data": {
      "text/plain": [
       "array([[0., 0., 0., 0., 1.],\n",
       "       [1., 0., 0., 0., 0.],\n",
       "       [1., 0., 0., 0., 0.],\n",
       "       ...,\n",
       "       [0., 0., 0., 1., 0.],\n",
       "       [0., 0., 1., 0., 0.],\n",
       "       [0., 1., 0., 0., 0.]], dtype=float32)"
      ]
     },
     "execution_count": 79,
     "metadata": {},
     "output_type": "execute_result"
    }
   ],
   "source": [
    "Y_test  #check data consistency"
   ]
  },
  {
   "cell_type": "markdown",
   "metadata": {},
   "source": [
    "**Create model**"
   ]
  },
  {
   "cell_type": "code",
   "execution_count": 80,
   "metadata": {
    "id": "EBSsroYMH_Di"
   },
   "outputs": [],
   "source": [
    "# define the model\n",
    "def baseline():\n",
    "    # create model\n",
    "    model = Sequential()\n",
    "    \n",
    "    # add one fully connected layer\n",
    "    model.add(Dense(15, input_dim=21, activation='relu'))\n",
    "    # add a fully connected layer for the output\n",
    "    model.add(Dense(13,activation='relu'))\n",
    "    model.add(Dense(5,activation='softmax'))\n",
    "    # Compile model\n",
    "    model.compile(loss=\"categorical_crossentropy\", optimizer='adam',metrics=[\"accuracy\"])\n",
    "    \n",
    "    return model# Your code here"
   ]
  },
  {
   "cell_type": "code",
   "execution_count": 81,
   "metadata": {
    "id": "fOhlLIkIH_GJ"
   },
   "outputs": [],
   "source": [
    "model=baseline()# Nueral network model initialised"
   ]
  },
  {
   "cell_type": "code",
   "execution_count": 82,
   "metadata": {
    "colab": {
     "base_uri": "https://localhost:8080/"
    },
    "id": "2eCkHn2rH_Ip",
    "outputId": "1e7a0bfc-31b8-4b59-a7bf-b6b5f51bc940"
   },
   "outputs": [
    {
     "name": "stdout",
     "output_type": "stream",
     "text": [
      "Model: \"sequential_2\"\n",
      "_________________________________________________________________\n",
      " Layer (type)                Output Shape              Param #   \n",
      "=================================================================\n",
      " dense_6 (Dense)             (None, 15)                330       \n",
      "                                                                 \n",
      " dense_7 (Dense)             (None, 13)                208       \n",
      "                                                                 \n",
      " dense_8 (Dense)             (None, 5)                 70        \n",
      "                                                                 \n",
      "=================================================================\n",
      "Total params: 608\n",
      "Trainable params: 608\n",
      "Non-trainable params: 0\n",
      "_________________________________________________________________\n"
     ]
    }
   ],
   "source": [
    "model.summary()# summary of trainable parameters"
   ]
  },
  {
   "cell_type": "code",
   "execution_count": 83,
   "metadata": {
    "colab": {
     "base_uri": "https://localhost:8080/"
    },
    "id": "jApDROMXH_Lf",
    "outputId": "712d2172-21a3-4076-a082-7ba10e900494"
   },
   "outputs": [
    {
     "data": {
      "text/plain": [
       "(1085, 21)"
      ]
     },
     "execution_count": 83,
     "metadata": {},
     "output_type": "execute_result"
    }
   ],
   "source": [
    "X_train.shape   # we check shape for consistency"
   ]
  },
  {
   "cell_type": "markdown",
   "metadata": {
    "id": "4aLJ88uIpeno"
   },
   "source": [
    "**Split data into Training and Testing Validation**"
   ]
  },
  {
   "cell_type": "code",
   "execution_count": 84,
   "metadata": {
    "id": "weoIKClrH_N2"
   },
   "outputs": [],
   "source": [
    "X_train,X_val,Y_train,Y_val=train_test_split(X_train,Y_train,test_size=0.3,random_state=3)# we split data into test, train and validation"
   ]
  },
  {
   "cell_type": "code",
   "execution_count": 85,
   "metadata": {
    "colab": {
     "base_uri": "https://localhost:8080/"
    },
    "id": "flGBr-h2H_Q8",
    "outputId": "6744e8f6-463e-4479-9edb-78053a3bee08"
   },
   "outputs": [
    {
     "name": "stdout",
     "output_type": "stream",
     "text": [
      "Epoch 1/20\n",
      "190/190 [==============================] - 1s 2ms/step - loss: 1.3756 - accuracy: 0.5033 - val_loss: 1.1605 - val_accuracy: 0.7055\n",
      "Epoch 2/20\n",
      "190/190 [==============================] - 0s 1ms/step - loss: 0.8527 - accuracy: 0.8379 - val_loss: 0.6713 - val_accuracy: 0.8865\n",
      "Epoch 3/20\n",
      "190/190 [==============================] - 0s 1ms/step - loss: 0.4839 - accuracy: 0.9038 - val_loss: 0.4813 - val_accuracy: 0.8558\n",
      "Epoch 4/20\n",
      "190/190 [==============================] - 0s 1ms/step - loss: 0.3433 - accuracy: 0.9144 - val_loss: 0.3688 - val_accuracy: 0.9202\n",
      "Epoch 5/20\n",
      "190/190 [==============================] - 0s 1ms/step - loss: 0.2652 - accuracy: 0.9354 - val_loss: 0.3171 - val_accuracy: 0.9294\n",
      "Epoch 6/20\n",
      "190/190 [==============================] - 0s 1ms/step - loss: 0.2207 - accuracy: 0.9473 - val_loss: 0.2847 - val_accuracy: 0.9264\n",
      "Epoch 7/20\n",
      "190/190 [==============================] - 0s 1ms/step - loss: 0.1883 - accuracy: 0.9565 - val_loss: 0.2629 - val_accuracy: 0.9294\n",
      "Epoch 8/20\n",
      "190/190 [==============================] - 0s 1ms/step - loss: 0.1672 - accuracy: 0.9578 - val_loss: 0.2465 - val_accuracy: 0.9325\n",
      "Epoch 9/20\n",
      "190/190 [==============================] - 0s 1ms/step - loss: 0.1491 - accuracy: 0.9618 - val_loss: 0.2370 - val_accuracy: 0.9448\n",
      "Epoch 10/20\n",
      "190/190 [==============================] - 0s 1ms/step - loss: 0.1341 - accuracy: 0.9697 - val_loss: 0.2248 - val_accuracy: 0.9448\n",
      "Epoch 11/20\n",
      "190/190 [==============================] - 0s 1ms/step - loss: 0.1202 - accuracy: 0.9697 - val_loss: 0.2365 - val_accuracy: 0.9509\n",
      "Epoch 12/20\n",
      "190/190 [==============================] - 0s 1ms/step - loss: 0.1149 - accuracy: 0.9736 - val_loss: 0.2189 - val_accuracy: 0.9540\n",
      "Epoch 13/20\n",
      "190/190 [==============================] - 0s 1ms/step - loss: 0.1041 - accuracy: 0.9750 - val_loss: 0.2091 - val_accuracy: 0.9571\n",
      "Epoch 14/20\n",
      "190/190 [==============================] - 0s 1ms/step - loss: 0.0989 - accuracy: 0.9736 - val_loss: 0.2157 - val_accuracy: 0.9479\n",
      "Epoch 15/20\n",
      "190/190 [==============================] - 0s 1ms/step - loss: 0.0920 - accuracy: 0.9750 - val_loss: 0.1987 - val_accuracy: 0.9540\n",
      "Epoch 16/20\n",
      "190/190 [==============================] - 0s 2ms/step - loss: 0.0840 - accuracy: 0.9723 - val_loss: 0.2181 - val_accuracy: 0.9601\n",
      "Epoch 17/20\n",
      "190/190 [==============================] - 0s 1ms/step - loss: 0.0814 - accuracy: 0.9776 - val_loss: 0.2049 - val_accuracy: 0.9571\n",
      "Epoch 18/20\n",
      "190/190 [==============================] - 0s 1ms/step - loss: 0.0786 - accuracy: 0.9750 - val_loss: 0.2007 - val_accuracy: 0.9632\n",
      "Epoch 19/20\n",
      "190/190 [==============================] - 0s 1ms/step - loss: 0.0722 - accuracy: 0.9816 - val_loss: 0.1959 - val_accuracy: 0.9632\n",
      "Epoch 20/20\n",
      "190/190 [==============================] - 0s 1ms/step - loss: 0.0675 - accuracy: 0.9802 - val_loss: 0.1930 - val_accuracy: 0.9601\n"
     ]
    }
   ],
   "source": [
    "history=model.fit(X_train,Y_train,validation_data=(X_val,Y_val),epochs=20,batch_size=4,verbose=1)"
   ]
  },
  {
   "cell_type": "markdown",
   "metadata": {
    "id": "4TokHLAZH8jr"
   },
   "source": []
  },
  {
   "cell_type": "markdown",
   "metadata": {
    "id": "oce2euXepenr"
   },
   "source": [
    "**Check model prediction**"
   ]
  },
  {
   "cell_type": "code",
   "execution_count": 86,
   "metadata": {
    "id": "9TygkUr2Tj4W"
   },
   "outputs": [],
   "source": [
    "prediction = model.predict(X_test)  #Predict test data"
   ]
  },
  {
   "cell_type": "code",
   "execution_count": 87,
   "metadata": {
    "colab": {
     "base_uri": "https://localhost:8080/"
    },
    "id": "O_Hh2dusTp9_",
    "outputId": "a5c240e3-f957-4daa-bcde-a0f15236c45f"
   },
   "outputs": [
    {
     "data": {
      "text/plain": [
       "0.01488397"
      ]
     },
     "execution_count": 87,
     "metadata": {},
     "output_type": "execute_result"
    }
   ],
   "source": [
    "mean_squared_error(Y_test, prediction)  #compute mean error"
   ]
  },
  {
   "cell_type": "code",
   "execution_count": 88,
   "metadata": {
    "id": "vSH-9Pl3penu"
   },
   "outputs": [],
   "source": [
    "prediction_classes=np.argmax(prediction,axis=1)"
   ]
  },
  {
   "cell_type": "code",
   "execution_count": 89,
   "metadata": {
    "colab": {
     "base_uri": "https://localhost:8080/"
    },
    "id": "dnaoxeV0penu",
    "outputId": "4dc7023a-9eb0-4c73-beaf-64c126d68570"
   },
   "outputs": [
    {
     "data": {
      "text/plain": [
       "0.9526881720430107"
      ]
     },
     "execution_count": 89,
     "metadata": {},
     "output_type": "execute_result"
    }
   ],
   "source": [
    "accuracy_score(np.argmax(Y_test,1),prediction_classes)# we check accuracy percentage of our model"
   ]
  },
  {
   "cell_type": "code",
   "execution_count": 90,
   "metadata": {
    "id": "Z8isaxtQpenv"
   },
   "outputs": [],
   "source": [
    "prediction=np.argmax(prediction,axis=1)"
   ]
  },
  {
   "cell_type": "code",
   "execution_count": 91,
   "metadata": {
    "id": "FBbJc-1Gpenw"
   },
   "outputs": [],
   "source": [
    "Y_pred=np.argmax(Y_test,axis=1)"
   ]
  },
  {
   "cell_type": "code",
   "execution_count": 92,
   "metadata": {
    "colab": {
     "base_uri": "https://localhost:8080/"
    },
    "id": "JMnMfJ_gpenw",
    "outputId": "99d4e833-702d-4f5a-d93c-66b8dc5d001f"
   },
   "outputs": [
    {
     "data": {
      "text/plain": [
       "array([[98,  4,  0,  2,  2],\n",
       "       [ 1, 92,  0,  2,  0],\n",
       "       [ 0,  0, 85,  0,  0],\n",
       "       [ 4,  2,  5, 84,  0],\n",
       "       [ 0,  0,  0,  0, 84]])"
      ]
     },
     "execution_count": 92,
     "metadata": {},
     "output_type": "execute_result"
    }
   ],
   "source": [
    "confusion_matrix(Y_pred,prediction)  #confusion matrix to check if distribution of data is correct"
   ]
  },
  {
   "cell_type": "markdown",
   "metadata": {
    "id": "Z86B_Z5qpenx"
   },
   "source": [
    "**Plot accuracy of our model**"
   ]
  },
  {
   "cell_type": "code",
   "execution_count": 93,
   "metadata": {
    "id": "BPcGrf78Tv_W"
   },
   "outputs": [],
   "source": [
    "def plot_hist(h, xsize=6, ysize=10):\n",
    "\n",
    "    fig_size = plt.rcParams[\"figure.figsize\"]\n",
    "    plt.rcParams[\"figure.figsize\"] = [xsize, ysize]\n",
    "    fig, axes = plt.subplots(nrows=1, ncols=1, sharex=True)\n",
    "    \n",
    "    # summarize history for Accuracy\n",
    "    plt.subplot(211)\n",
    "    plt.plot(h['accuracy'])\n",
    "    plt.plot(h['val_accuracy'])\n",
    "    plt.title('Training Performance')\n",
    "    plt.ylabel('Accuracy')\n",
    "    plt.xlabel('Epochs')\n",
    "    plt.legend(['Train', 'Validation'], loc='best')\n",
    "    \n",
    "    plt.draw()\n",
    "    plt.show()\n",
    "\n",
    "    return"
   ]
  },
  {
   "cell_type": "code",
   "execution_count": 94,
   "metadata": {
    "colab": {
     "base_uri": "https://localhost:8080/",
     "height": 374
    },
    "id": "MSRcmF94penz",
    "outputId": "37c32d16-cfaa-42e6-dc4d-765339865374"
   },
   "outputs": [
    {
     "data": {
      "image/png": "[encoded data removed]",
      "text/plain": [
       "<Figure size 576x864 with 1 Axes>"
      ]
     },
     "metadata": {
      "needs_background": "light"
     },
     "output_type": "display_data"
    }
   ],
   "source": [
    "plot_hist(history.history, xsize=8, ysize=12)  #plot command"
   ]
  },
  {
   "cell_type": "markdown",
   "metadata": {
    "id": "PtIM9iTepenz"
   },
   "source": [
    "**Conclusions**\n",
    "\n",
    "- Sucessfully undersampled baised data, to prepare data for splitting into training and training, as shown.\n",
    "- We also converted the data from vector form to binary matrix, before creating the nueral network model\n",
    "- We splitted the data into training, testing and validation, with 20 epochs\n",
    "- We then created a neural network with 5 output layers and 608 weights (successfully trainable)\n",
    "***\n",
    "**Results after training model:**\n",
    "* Model is about 95 % accurate with mean square error of around 0.02. This is a well trained model. The plot of training performances shows the 'train' curve always closer to 'validation' curve."
   ]
  },
  {
   "cell_type": "code",
   "execution_count": 203,
   "metadata": {
    "id": "exk4nVuKpenz"
   },
   "outputs": [],
   "source": []
  }
 ],
 "metadata": {
  "accelerator": "GPU",
  "colab": {
   "collapsed_sections": [],
   "name": "leon_datascience_assignment1.ipynb",
   "provenance": []
  },
  "kernelspec": {
   "display_name": "Python 3",
   "language": "python",
   "name": "python3"
  },
  "language_info": {
   "codemirror_mode": {
    "name": "ipython",
    "version": 3
   },
   "file_extension": ".py",
   "mimetype": "text/x-python",
   "name": "python",
   "nbconvert_exporter": "python",
   "pygments_lexer": "ipython3",
   "version": "3.9.2"
  }
 },
 "nbformat": 4,
 "nbformat_minor": 1
}
